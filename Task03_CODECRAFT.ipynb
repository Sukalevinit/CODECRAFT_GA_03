{
  "nbformat": 4,
  "nbformat_minor": 0,
  "metadata": {
    "colab": {
      "provenance": []
    },
    "kernelspec": {
      "name": "python3",
      "display_name": "Python 3"
    },
    "language_info": {
      "name": "python"
    }
  },
  "cells": [
    {
      "cell_type": "code",
      "execution_count": null,
      "metadata": {
        "id": "SgNdGRxIU8Cn"
      },
      "outputs": [],
      "source": [
        "import random\n",
        "from collections import defaultdict\n"
      ]
    },
    {
      "cell_type": "code",
      "source": [
        "# Sample text\n",
        "text = \"\"\"\n",
        "Markov chains are a useful statistical tool.\n",
        "They can generate text by predicting the next word based on the current one.\n",
        "This is a simple example of text generation using Markov chains.\n",
        "\"\"\"\n",
        "\n",
        "# Tokenize the text into words\n",
        "words = text.split()\n"
      ],
      "metadata": {
        "id": "S42icsK0VAJM"
      },
      "execution_count": null,
      "outputs": []
    },
    {
      "cell_type": "markdown",
      "source": [],
      "metadata": {
        "id": "fLKDzugTo2nm"
      }
    },
    {
      "cell_type": "code",
      "source": [
        "# Create a dictionary to hold the transitions\n",
        "markov_chain = defaultdict(list)\n",
        "\n",
        "# Populate the Markov chain\n",
        "for i in range(len(words) - 1):\n",
        "    current_word = words[i]\n",
        "    next_word = words[i + 1]\n",
        "    markov_chain[current_word].append(next_word)\n"
      ],
      "metadata": {
        "id": "yZ8Ny_DBVC07"
      },
      "execution_count": null,
      "outputs": []
    },
    {
      "cell_type": "code",
      "source": [
        "# Function to generate text\n",
        "def generate_text(chain, start_word, length=20):\n",
        "    word = start_word\n",
        "    result = [word]\n",
        "\n",
        "    for _ in range(length - 1):\n",
        "        if word in chain:\n",
        "            next_words = chain[word]\n",
        "            word = random.choice(next_words)\n",
        "            result.append(word)\n",
        "        else:\n",
        "            break  # End if there's no next word\n",
        "\n",
        "    return ' '.join(result)\n"
      ],
      "metadata": {
        "id": "AacHGOOhVHeG"
      },
      "execution_count": null,
      "outputs": []
    },
    {
      "cell_type": "code",
      "source": [
        "# Pick a random starting word\n",
        "start = random.choice(words)\n",
        "\n",
        "# Generate and print text\n",
        "generated_text = generate_text(markov_chain, start)\n",
        "print(\"Generated Text:\\n\", generated_text)\n"
      ],
      "metadata": {
        "colab": {
          "base_uri": "https://localhost:8080/"
        },
        "id": "eVre2-qwVKTu",
        "outputId": "dcb6794f-b3c6-46d9-cc8f-212a16211fc4"
      },
      "execution_count": null,
      "outputs": [
        {
          "output_type": "stream",
          "name": "stdout",
          "text": [
            "Generated Text:\n",
            " word based on the next word based on the next word based on the next word based on the next\n"
          ]
        }
      ]
    }
  ]
}